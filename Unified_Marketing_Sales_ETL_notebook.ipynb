{
 "cells": [
  {
   "cell_type": "code",
   "execution_count": 0,
   "metadata": {
    "application/vnd.databricks.v1+cell": {
     "cellMetadata": {},
     "inputWidgets": {},
     "nuid": "39af5f8d-e37c-4a51-88c6-5504b485c4d9",
     "showTitle": false,
     "tableResultSettingsMap": {},
     "title": ""
    }
   },
   "outputs": [],
   "source": [
    "# Databricks Notebook: Unified_Marketing_Sales_ETL\n",
    "# Author: Rodger Roberts\n",
    "# Description:\n",
    "# Integrate multiple data sources (CRM, Ads, ERP) into a unified data model\n",
    "# for enterprise-wide reporting and analytics.\n"
   ]
  },
  {
   "cell_type": "code",
   "execution_count": 0,
   "metadata": {
    "application/vnd.databricks.v1+cell": {
     "cellMetadata": {},
     "inputWidgets": {},
     "nuid": "ca182d5a-000c-4975-a6c0-7c40b55d1da0",
     "showTitle": false,
     "tableResultSettingsMap": {},
     "title": ""
    }
   },
   "outputs": [],
   "source": [
    "\n",
    "#  Import Libraries\n",
    "\n",
    "from pyspark.sql import SparkSession\n",
    "from pyspark.sql.functions import col, to_date, when, trim, upper, countDistinct\n",
    "\n",
    "spark = SparkSession.builder.appName(\"Unified_Marketing_Sales_ETL\").getOrCreate()\n"
   ]
  },
  {
   "cell_type": "code",
   "execution_count": 0,
   "metadata": {
    "application/vnd.databricks.v1+cell": {
     "cellMetadata": {},
     "inputWidgets": {},
     "nuid": "5e18f5a0-ec16-4604-842e-4eb307e671eb",
     "showTitle": false,
     "tableResultSettingsMap": {},
     "title": ""
    }
   },
   "outputs": [],
   "source": [
    "\n",
    "# Load Raw Data from Multiple Sources (Ingested via FiveTran)\n",
    "\n",
    "crm_df = spark.read.format(\"delta\").load(\"/mnt/raw/crm/customers\")\n",
    "ads_df = spark.read.format(\"delta\").load(\"/mnt/raw/ads/google_ads\")\n",
    "sales_df = spark.read.format(\"delta\").load(\"/mnt/raw/erp/sales_orders\")\n"
   ]
  },
  {
   "cell_type": "code",
   "execution_count": 0,
   "metadata": {
    "application/vnd.databricks.v1+cell": {
     "cellMetadata": {},
     "inputWidgets": {},
     "nuid": "7c65d1d6-9523-4e3b-a9d8-ae069c2d33bb",
     "showTitle": false,
     "tableResultSettingsMap": {},
     "title": ""
    }
   },
   "outputs": [],
   "source": [
    "\n",
    "# Basic Cleaning and Standardization\n",
    "\n",
    "crm_df = crm_df.withColumn(\"email\", trim(upper(col(\"email\"))))\n",
    "ads_df = ads_df.withColumn(\"campaign_name\", trim(col(\"campaign_name\")))\n",
    "sales_df = sales_df.withColumn(\"order_date\", to_date(col(\"order_date\"), \"yyyy-MM-dd\"))\n"
   ]
  },
  {
   "cell_type": "code",
   "execution_count": 0,
   "metadata": {
    "application/vnd.databricks.v1+cell": {
     "cellMetadata": {},
     "inputWidgets": {},
     "nuid": "d09560eb-ef85-41b0-8dd5-ebd4d23e02b9",
     "showTitle": false,
     "tableResultSettingsMap": {},
     "title": ""
    }
   },
   "outputs": [],
   "source": [
    "\n",
    "# Join Datasets on Common Keys (Customer → Campaign → Orders)\n",
    "\n",
    "joined_df = (\n",
    "    sales_df\n",
    "    .join(crm_df, \"customer_id\", \"left\")\n",
    "    .join(ads_df, sales_df.campaign_id == ads_df.campaign_id, \"left\")\n",
    ")\n"
   ]
  },
  {
   "cell_type": "code",
   "execution_count": 0,
   "metadata": {
    "application/vnd.databricks.v1+cell": {
     "cellMetadata": {},
     "inputWidgets": {},
     "nuid": "6b259857-23ca-4de0-81de-03d0d10336f9",
     "showTitle": false,
     "tableResultSettingsMap": {},
     "title": ""
    }
   },
   "outputs": [],
   "source": [
    "\n",
    "# Data Quality Checks\n",
    "\n",
    "dq_summary = joined_df.agg(\n",
    "    countDistinct(\"customer_id\").alias(\"unique_customers\"),\n",
    "    countDistinct(\"order_id\").alias(\"unique_orders\")\n",
    ")\n",
    "display(dq_summary)\n"
   ]
  },
  {
   "cell_type": "code",
   "execution_count": 0,
   "metadata": {
    "application/vnd.databricks.v1+cell": {
     "cellMetadata": {},
     "inputWidgets": {},
     "nuid": "7e046ee4-f2cb-4021-8063-26ec48915602",
     "showTitle": false,
     "tableResultSettingsMap": {},
     "title": ""
    }
   },
   "outputs": [],
   "source": [
    "\n",
    "# Transform to Unified Reporting Schema\n",
    "\n",
    "report_df = joined_df.select(\n",
    "    \"customer_id\",\n",
    "    \"customer_name\",\n",
    "    \"campaign_name\",\n",
    "    \"order_id\",\n",
    "    \"order_date\",\n",
    "    \"order_amount\",\n",
    "    when(col(\"order_amount\") > 0, \"Completed\").otherwise(\"Pending\").alias(\"order_status\")\n",
    ")\n"
   ]
  },
  {
   "cell_type": "code",
   "execution_count": 0,
   "metadata": {
    "application/vnd.databricks.v1+cell": {
     "cellMetadata": {},
     "inputWidgets": {},
     "nuid": "bfa16c7a-3270-4266-8a89-4534c2d73761",
     "showTitle": false,
     "tableResultSettingsMap": {},
     "title": ""
    }
   },
   "outputs": [],
   "source": [
    "\n",
    "# Write to Curated Layer (Delta Lake)\n",
    "\n",
    "report_df.write.format(\"delta\").mode(\"overwrite\").save(\"/mnt/curated/unified_sales_marketing\")\n"
   ]
  },
  {
   "cell_type": "code",
   "execution_count": 0,
   "metadata": {
    "application/vnd.databricks.v1+cell": {
     "cellMetadata": {},
     "inputWidgets": {},
     "nuid": "de57a752-7403-4413-acfc-16d9a821f49e",
     "showTitle": false,
     "tableResultSettingsMap": {},
     "title": ""
    }
   },
   "outputs": [],
   "source": [
    "\n",
    "#  Register as SQL Table for Power BI Access\n",
    "\n",
    "spark.sql(\"\"\"\n",
    "CREATE OR REPLACE TABLE unified_sales_marketing\n",
    "USING DELTA\n",
    "LOCATION '/mnt/curated/unified_sales_marketing'\n",
    "\"\"\")\n"
   ]
  },
  {
   "cell_type": "code",
   "execution_count": 0,
   "metadata": {
    "application/vnd.databricks.v1+cell": {
     "cellMetadata": {},
     "inputWidgets": {},
     "nuid": "511ad098-eaa1-403c-86d3-ad1f793f416d",
     "showTitle": false,
     "tableResultSettingsMap": {},
     "title": ""
    }
   },
   "outputs": [],
   "source": [
    "\n",
    "# Result:\n",
    "# Clean, standardized dataset ready for enterprise BI reporting (Power BI / Tableau)\n",
    "# Demonstrates multi-source integration, data quality validation,\n",
    "# and scalable transformation architecture.\n"
   ]
  }
 ],
 "metadata": {
  "application/vnd.databricks.v1+notebook": {
   "computePreferences": null,
   "dashboards": [],
   "environmentMetadata": {
    "base_environment": "",
    "environment_version": "4"
   },
   "inputWidgetPreferences": null,
   "language": "python",
   "notebookMetadata": {
    "pythonIndentUnit": 2
   },
   "notebookName": "Untitled Notebook 2025-10-15 11:05:25",
   "widgets": {}
  },
  "language_info": {
   "name": "python"
  }
 },
 "nbformat": 4,
 "nbformat_minor": 0
}